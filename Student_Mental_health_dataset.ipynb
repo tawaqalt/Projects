{
  "nbformat": 4,
  "nbformat_minor": 0,
  "metadata": {
    "colab": {
      "provenance": [],
      "authorship_tag": "ABX9TyOAgdosR8UXSy3dEs2x7zVg",
      "include_colab_link": true
    },
    "kernelspec": {
      "name": "python3",
      "display_name": "Python 3"
    },
    "language_info": {
      "name": "python"
    }
  },
  "cells": [
    {
      "cell_type": "markdown",
      "metadata": {
        "id": "view-in-github",
        "colab_type": "text"
      },
      "source": [
        "<a href=\"https://colab.research.google.com/github/tawaqalt/tawaqalt/blob/main/Student_Mental_health_dataset.ipynb\" target=\"_parent\"><img src=\"https://colab.research.google.com/assets/colab-badge.svg\" alt=\"Open In Colab\"/></a>"
      ]
    },
    {
      "cell_type": "markdown",
      "source": [
        "## **Student Mental Health Analysis**"
      ],
      "metadata": {
        "id": "4U0rClZIxSOm"
      }
    },
    {
      "cell_type": "markdown",
      "source": [
        "![images (1).jpg](data:image/jpeg;base64,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)"
      ],
      "metadata": {
        "id": "LgOHL0a7klma"
      }
    },
    {
      "cell_type": "markdown",
      "source": [
        "## **Introduction:**"
      ],
      "metadata": {
        "id": "ZR_sA-REoC0g"
      }
    },
    {
      "cell_type": "markdown",
      "source": [
        "In the realm of student well-being and academic success, the dataset obtained from Kaggle emerges as a comprehensive repository, capturing essential aspects of students' lives. This dataset encapsulates pivotal variables, including age, Cumulative Grade Point Average (CGPA), marital status, and an exploration into the nuanced dimension of depression status. As we embark on this analysis, the dataset becomes a lens through which we can unravel the intricate interplay of personal, academic, and mental health factors shaping the student experience.\n",
        "\n",
        "Key Features of the Dataset:\n",
        "\n",
        "Age Distribution:\n",
        "Uncover the diverse age spectrum within the student community, examining how age may correlate with academic achievements and well-being.\n",
        "Academic Performance (CGPA):\n",
        "\n",
        "Dive into the academic journey of students by exploring their CGPA, providing insights into overall academic achievements and potential areas for improvement.\n",
        "Marital Status:\n",
        "\n",
        "Investigate the impact of marital status on the student experience, considering how personal relationships may intersect with academic pursuits and well-being.\n",
        "Depression Status:\n",
        "\n",
        "Delve into the sensitive yet critical dimension of mental health by examining the depression status of students. This exploration aims to shed light on the prevalence of depression and its potential association with academic performance and other variables.\n"
      ],
      "metadata": {
        "id": "86csqYCtoKwR"
      }
    },
    {
      "cell_type": "markdown",
      "source": [
        "## **Objective of the Analysis:**"
      ],
      "metadata": {
        "id": "SanF62uH0U6-"
      }
    },
    {
      "cell_type": "markdown",
      "source": [
        "Through this analysis, we aim to discern patterns and correlations that can inform targeted interventions and support systems for students. Understanding how age, CGPA, marital status, and depression status intertwine provides a holistic perspective, fostering a deeper appreciation of the challenges and triumphs that students may face during their educational journey.\n",
        "\n",
        "As we navigate this dataset, the goal is to contribute meaningful insights that not only enhance our understanding of student dynamics but also lay the groundwork for developing tailored strategies to support student well-being and academic success.\n",
        "\n"
      ],
      "metadata": {
        "id": "GkSi0p-v0aYc"
      }
    },
    {
      "cell_type": "markdown",
      "source": [
        "# Importing Libraries"
      ],
      "metadata": {
        "id": "MWjSsW9tlD3M"
      }
    },
    {
      "cell_type": "code",
      "execution_count": 8,
      "metadata": {
        "id": "9DIBsW9ejMVg"
      },
      "outputs": [],
      "source": [
        "import numpy as np\n",
        "import pandas as pd\n",
        "import matplotlib.pyplot as plt\n",
        "import seaborn as sns"
      ]
    },
    {
      "cell_type": "markdown",
      "source": [
        "# Uploading the dataset"
      ],
      "metadata": {
        "id": "TZY39bO-kjTN"
      }
    },
    {
      "cell_type": "code",
      "source": [
        "df = pd.read_csv('/content/Student Mental health.csv')"
      ],
      "metadata": {
        "id": "tZiLztfVmj1s"
      },
      "execution_count": 87,
      "outputs": []
    },
    {
      "cell_type": "markdown",
      "source": [
        "# Data Preprocessing"
      ],
      "metadata": {
        "id": "b0_-o15znIPu"
      }
    },
    {
      "cell_type": "code",
      "source": [
        "df.head()"
      ],
      "metadata": {
        "colab": {
          "base_uri": "https://localhost:8080/",
          "height": 328
        },
        "id": "PYVZTPM8nNDC",
        "outputId": "4dd6824c-3c5e-4720-df5d-66acb7acb05a"
      },
      "execution_count": 88,
      "outputs": [
        {
          "output_type": "execute_result",
          "data": {
            "text/plain": [
              "        Timestamp Choose your gender   Age What is your course?  \\\n",
              "0  8/7/2020 12:02             Female  18.0          Engineering   \n",
              "1  8/7/2020 12:04               Male  21.0    Islamic education   \n",
              "2  8/7/2020 12:05               Male  19.0                  BIT   \n",
              "3  8/7/2020 12:06             Female  22.0                 Laws   \n",
              "4  8/7/2020 12:13               Male  23.0         Mathemathics   \n",
              "\n",
              "  Your current year of Study What is your CGPA? Marital status  \\\n",
              "0                     year 1        3.00 - 3.49             No   \n",
              "1                     year 2        3.00 - 3.49             No   \n",
              "2                     Year 1        3.00 - 3.49             No   \n",
              "3                     year 3        3.00 - 3.49            Yes   \n",
              "4                     year 4        3.00 - 3.49             No   \n",
              "\n",
              "  Do you have Depression? Do you have Anxiety? Do you have Panic attack?  \\\n",
              "0                     Yes                   No                       Yes   \n",
              "1                      No                  Yes                        No   \n",
              "2                     Yes                  Yes                       Yes   \n",
              "3                     Yes                   No                        No   \n",
              "4                      No                   No                        No   \n",
              "\n",
              "  Did you seek any specialist for a treatment?  \n",
              "0                                           No  \n",
              "1                                           No  \n",
              "2                                           No  \n",
              "3                                           No  \n",
              "4                                           No  "
            ],
            "text/html": [
              "\n",
              "  <div id=\"df-9ac4556e-77b3-4d55-8ef1-e5f1b8c562b4\" class=\"colab-df-container\">\n",
              "    <div>\n",
              "<style scoped>\n",
              "    .dataframe tbody tr th:only-of-type {\n",
              "        vertical-align: middle;\n",
              "    }\n",
              "\n",
              "    .dataframe tbody tr th {\n",
              "        vertical-align: top;\n",
              "    }\n",
              "\n",
              "    .dataframe thead th {\n",
              "        text-align: right;\n",
              "    }\n",
              "</style>\n",
              "<table border=\"1\" class=\"dataframe\">\n",
              "  <thead>\n",
              "    <tr style=\"text-align: right;\">\n",
              "      <th></th>\n",
              "      <th>Timestamp</th>\n",
              "      <th>Choose your gender</th>\n",
              "      <th>Age</th>\n",
              "      <th>What is your course?</th>\n",
              "      <th>Your current year of Study</th>\n",
              "      <th>What is your CGPA?</th>\n",
              "      <th>Marital status</th>\n",
              "      <th>Do you have Depression?</th>\n",
              "      <th>Do you have Anxiety?</th>\n",
              "      <th>Do you have Panic attack?</th>\n",
              "      <th>Did you seek any specialist for a treatment?</th>\n",
              "    </tr>\n",
              "  </thead>\n",
              "  <tbody>\n",
              "    <tr>\n",
              "      <th>0</th>\n",
              "      <td>8/7/2020 12:02</td>\n",
              "      <td>Female</td>\n",
              "      <td>18.0</td>\n",
              "      <td>Engineering</td>\n",
              "      <td>year 1</td>\n",
              "      <td>3.00 - 3.49</td>\n",
              "      <td>No</td>\n",
              "      <td>Yes</td>\n",
              "      <td>No</td>\n",
              "      <td>Yes</td>\n",
              "      <td>No</td>\n",
              "    </tr>\n",
              "    <tr>\n",
              "      <th>1</th>\n",
              "      <td>8/7/2020 12:04</td>\n",
              "      <td>Male</td>\n",
              "      <td>21.0</td>\n",
              "      <td>Islamic education</td>\n",
              "      <td>year 2</td>\n",
              "      <td>3.00 - 3.49</td>\n",
              "      <td>No</td>\n",
              "      <td>No</td>\n",
              "      <td>Yes</td>\n",
              "      <td>No</td>\n",
              "      <td>No</td>\n",
              "    </tr>\n",
              "    <tr>\n",
              "      <th>2</th>\n",
              "      <td>8/7/2020 12:05</td>\n",
              "      <td>Male</td>\n",
              "      <td>19.0</td>\n",
              "      <td>BIT</td>\n",
              "      <td>Year 1</td>\n",
              "      <td>3.00 - 3.49</td>\n",
              "      <td>No</td>\n",
              "      <td>Yes</td>\n",
              "      <td>Yes</td>\n",
              "      <td>Yes</td>\n",
              "      <td>No</td>\n",
              "    </tr>\n",
              "    <tr>\n",
              "      <th>3</th>\n",
              "      <td>8/7/2020 12:06</td>\n",
              "      <td>Female</td>\n",
              "      <td>22.0</td>\n",
              "      <td>Laws</td>\n",
              "      <td>year 3</td>\n",
              "      <td>3.00 - 3.49</td>\n",
              "      <td>Yes</td>\n",
              "      <td>Yes</td>\n",
              "      <td>No</td>\n",
              "      <td>No</td>\n",
              "      <td>No</td>\n",
              "    </tr>\n",
              "    <tr>\n",
              "      <th>4</th>\n",
              "      <td>8/7/2020 12:13</td>\n",
              "      <td>Male</td>\n",
              "      <td>23.0</td>\n",
              "      <td>Mathemathics</td>\n",
              "      <td>year 4</td>\n",
              "      <td>3.00 - 3.49</td>\n",
              "      <td>No</td>\n",
              "      <td>No</td>\n",
              "      <td>No</td>\n",
              "      <td>No</td>\n",
              "      <td>No</td>\n",
              "    </tr>\n",
              "  </tbody>\n",
              "</table>\n",
              "</div>\n",
              "    <div class=\"colab-df-buttons\">\n",
              "\n",
              "  <div class=\"colab-df-container\">\n",
              "    <button class=\"colab-df-convert\" onclick=\"convertToInteractive('df-9ac4556e-77b3-4d55-8ef1-e5f1b8c562b4')\"\n",
              "            title=\"Convert this dataframe to an interactive table.\"\n",
              "            style=\"display:none;\">\n",
              "\n",
              "  <svg xmlns=\"http://www.w3.org/2000/svg\" height=\"24px\" viewBox=\"0 -960 960 960\">\n",
              "    <path d=\"M120-120v-720h720v720H120Zm60-500h600v-160H180v160Zm220 220h160v-160H400v160Zm0 220h160v-160H400v160ZM180-400h160v-160H180v160Zm440 0h160v-160H620v160ZM180-180h160v-160H180v160Zm440 0h160v-160H620v160Z\"/>\n",
              "  </svg>\n",
              "    </button>\n",
              "\n",
              "  <style>\n",
              "    .colab-df-container {\n",
              "      display:flex;\n",
              "      gap: 12px;\n",
              "    }\n",
              "\n",
              "    .colab-df-convert {\n",
              "      background-color: #E8F0FE;\n",
              "      border: none;\n",
              "      border-radius: 50%;\n",
              "      cursor: pointer;\n",
              "      display: none;\n",
              "      fill: #1967D2;\n",
              "      height: 32px;\n",
              "      padding: 0 0 0 0;\n",
              "      width: 32px;\n",
              "    }\n",
              "\n",
              "    .colab-df-convert:hover {\n",
              "      background-color: #E2EBFA;\n",
              "      box-shadow: 0px 1px 2px rgba(60, 64, 67, 0.3), 0px 1px 3px 1px rgba(60, 64, 67, 0.15);\n",
              "      fill: #174EA6;\n",
              "    }\n",
              "\n",
              "    .colab-df-buttons div {\n",
              "      margin-bottom: 4px;\n",
              "    }\n",
              "\n",
              "    [theme=dark] .colab-df-convert {\n",
              "      background-color: #3B4455;\n",
              "      fill: #D2E3FC;\n",
              "    }\n",
              "\n",
              "    [theme=dark] .colab-df-convert:hover {\n",
              "      background-color: #434B5C;\n",
              "      box-shadow: 0px 1px 3px 1px rgba(0, 0, 0, 0.15);\n",
              "      filter: drop-shadow(0px 1px 2px rgba(0, 0, 0, 0.3));\n",
              "      fill: #FFFFFF;\n",
              "    }\n",
              "  </style>\n",
              "\n",
              "    <script>\n",
              "      const buttonEl =\n",
              "        document.querySelector('#df-9ac4556e-77b3-4d55-8ef1-e5f1b8c562b4 button.colab-df-convert');\n",
              "      buttonEl.style.display =\n",
              "        google.colab.kernel.accessAllowed ? 'block' : 'none';\n",
              "\n",
              "      async function convertToInteractive(key) {\n",
              "        const element = document.querySelector('#df-9ac4556e-77b3-4d55-8ef1-e5f1b8c562b4');\n",
              "        const dataTable =\n",
              "          await google.colab.kernel.invokeFunction('convertToInteractive',\n",
              "                                                    [key], {});\n",
              "        if (!dataTable) return;\n",
              "\n",
              "        const docLinkHtml = 'Like what you see? Visit the ' +\n",
              "          '<a target=\"_blank\" href=https://colab.research.google.com/notebooks/data_table.ipynb>data table notebook</a>'\n",
              "          + ' to learn more about interactive tables.';\n",
              "        element.innerHTML = '';\n",
              "        dataTable['output_type'] = 'display_data';\n",
              "        await google.colab.output.renderOutput(dataTable, element);\n",
              "        const docLink = document.createElement('div');\n",
              "        docLink.innerHTML = docLinkHtml;\n",
              "        element.appendChild(docLink);\n",
              "      }\n",
              "    </script>\n",
              "  </div>\n",
              "\n",
              "\n",
              "<div id=\"df-1af682fd-5e49-4007-a03b-2e3797c86abd\">\n",
              "  <button class=\"colab-df-quickchart\" onclick=\"quickchart('df-1af682fd-5e49-4007-a03b-2e3797c86abd')\"\n",
              "            title=\"Suggest charts\"\n",
              "            style=\"display:none;\">\n",
              "\n",
              "<svg xmlns=\"http://www.w3.org/2000/svg\" height=\"24px\"viewBox=\"0 0 24 24\"\n",
              "     width=\"24px\">\n",
              "    <g>\n",
              "        <path d=\"M19 3H5c-1.1 0-2 .9-2 2v14c0 1.1.9 2 2 2h14c1.1 0 2-.9 2-2V5c0-1.1-.9-2-2-2zM9 17H7v-7h2v7zm4 0h-2V7h2v10zm4 0h-2v-4h2v4z\"/>\n",
              "    </g>\n",
              "</svg>\n",
              "  </button>\n",
              "\n",
              "<style>\n",
              "  .colab-df-quickchart {\n",
              "      --bg-color: #E8F0FE;\n",
              "      --fill-color: #1967D2;\n",
              "      --hover-bg-color: #E2EBFA;\n",
              "      --hover-fill-color: #174EA6;\n",
              "      --disabled-fill-color: #AAA;\n",
              "      --disabled-bg-color: #DDD;\n",
              "  }\n",
              "\n",
              "  [theme=dark] .colab-df-quickchart {\n",
              "      --bg-color: #3B4455;\n",
              "      --fill-color: #D2E3FC;\n",
              "      --hover-bg-color: #434B5C;\n",
              "      --hover-fill-color: #FFFFFF;\n",
              "      --disabled-bg-color: #3B4455;\n",
              "      --disabled-fill-color: #666;\n",
              "  }\n",
              "\n",
              "  .colab-df-quickchart {\n",
              "    background-color: var(--bg-color);\n",
              "    border: none;\n",
              "    border-radius: 50%;\n",
              "    cursor: pointer;\n",
              "    display: none;\n",
              "    fill: var(--fill-color);\n",
              "    height: 32px;\n",
              "    padding: 0;\n",
              "    width: 32px;\n",
              "  }\n",
              "\n",
              "  .colab-df-quickchart:hover {\n",
              "    background-color: var(--hover-bg-color);\n",
              "    box-shadow: 0 1px 2px rgba(60, 64, 67, 0.3), 0 1px 3px 1px rgba(60, 64, 67, 0.15);\n",
              "    fill: var(--button-hover-fill-color);\n",
              "  }\n",
              "\n",
              "  .colab-df-quickchart-complete:disabled,\n",
              "  .colab-df-quickchart-complete:disabled:hover {\n",
              "    background-color: var(--disabled-bg-color);\n",
              "    fill: var(--disabled-fill-color);\n",
              "    box-shadow: none;\n",
              "  }\n",
              "\n",
              "  .colab-df-spinner {\n",
              "    border: 2px solid var(--fill-color);\n",
              "    border-color: transparent;\n",
              "    border-bottom-color: var(--fill-color);\n",
              "    animation:\n",
              "      spin 1s steps(1) infinite;\n",
              "  }\n",
              "\n",
              "  @keyframes spin {\n",
              "    0% {\n",
              "      border-color: transparent;\n",
              "      border-bottom-color: var(--fill-color);\n",
              "      border-left-color: var(--fill-color);\n",
              "    }\n",
              "    20% {\n",
              "      border-color: transparent;\n",
              "      border-left-color: var(--fill-color);\n",
              "      border-top-color: var(--fill-color);\n",
              "    }\n",
              "    30% {\n",
              "      border-color: transparent;\n",
              "      border-left-color: var(--fill-color);\n",
              "      border-top-color: var(--fill-color);\n",
              "      border-right-color: var(--fill-color);\n",
              "    }\n",
              "    40% {\n",
              "      border-color: transparent;\n",
              "      border-right-color: var(--fill-color);\n",
              "      border-top-color: var(--fill-color);\n",
              "    }\n",
              "    60% {\n",
              "      border-color: transparent;\n",
              "      border-right-color: var(--fill-color);\n",
              "    }\n",
              "    80% {\n",
              "      border-color: transparent;\n",
              "      border-right-color: var(--fill-color);\n",
              "      border-bottom-color: var(--fill-color);\n",
              "    }\n",
              "    90% {\n",
              "      border-color: transparent;\n",
              "      border-bottom-color: var(--fill-color);\n",
              "    }\n",
              "  }\n",
              "</style>\n",
              "\n",
              "  <script>\n",
              "    async function quickchart(key) {\n",
              "      const quickchartButtonEl =\n",
              "        document.querySelector('#' + key + ' button');\n",
              "      quickchartButtonEl.disabled = true;  // To prevent multiple clicks.\n",
              "      quickchartButtonEl.classList.add('colab-df-spinner');\n",
              "      try {\n",
              "        const charts = await google.colab.kernel.invokeFunction(\n",
              "            'suggestCharts', [key], {});\n",
              "      } catch (error) {\n",
              "        console.error('Error during call to suggestCharts:', error);\n",
              "      }\n",
              "      quickchartButtonEl.classList.remove('colab-df-spinner');\n",
              "      quickchartButtonEl.classList.add('colab-df-quickchart-complete');\n",
              "    }\n",
              "    (() => {\n",
              "      let quickchartButtonEl =\n",
              "        document.querySelector('#df-1af682fd-5e49-4007-a03b-2e3797c86abd button');\n",
              "      quickchartButtonEl.style.display =\n",
              "        google.colab.kernel.accessAllowed ? 'block' : 'none';\n",
              "    })();\n",
              "  </script>\n",
              "</div>\n",
              "\n",
              "    </div>\n",
              "  </div>\n"
            ]
          },
          "metadata": {},
          "execution_count": 88
        }
      ]
    },
    {
      "cell_type": "code",
      "source": [
        "df.columns"
      ],
      "metadata": {
        "colab": {
          "base_uri": "https://localhost:8080/"
        },
        "id": "2KXXDR5AnYWO",
        "outputId": "684f78b1-7070-440a-e2c8-fb8682448c65"
      },
      "execution_count": 89,
      "outputs": [
        {
          "output_type": "execute_result",
          "data": {
            "text/plain": [
              "Index(['Timestamp', 'Choose your gender', 'Age', 'What is your course?',\n",
              "       'Your current year of Study', 'What is your CGPA?', 'Marital status',\n",
              "       'Do you have Depression?', 'Do you have Anxiety?',\n",
              "       'Do you have Panic attack?',\n",
              "       'Did you seek any specialist for a treatment?'],\n",
              "      dtype='object')"
            ]
          },
          "metadata": {},
          "execution_count": 89
        }
      ]
    },
    {
      "cell_type": "code",
      "source": [
        "df.shape"
      ],
      "metadata": {
        "colab": {
          "base_uri": "https://localhost:8080/"
        },
        "id": "wTZT2-XinbPE",
        "outputId": "1514f702-4db0-48fb-9190-695bbbf719a7"
      },
      "execution_count": 91,
      "outputs": [
        {
          "output_type": "execute_result",
          "data": {
            "text/plain": [
              "(101, 11)"
            ]
          },
          "metadata": {},
          "execution_count": 91
        }
      ]
    },
    {
      "cell_type": "code",
      "source": [
        "df.info()"
      ],
      "metadata": {
        "colab": {
          "base_uri": "https://localhost:8080/"
        },
        "id": "7xZDhkA9nbBH",
        "outputId": "c9d5af12-709f-4f96-b1c2-5fc14dcccd6f"
      },
      "execution_count": 90,
      "outputs": [
        {
          "output_type": "stream",
          "name": "stdout",
          "text": [
            "<class 'pandas.core.frame.DataFrame'>\n",
            "RangeIndex: 101 entries, 0 to 100\n",
            "Data columns (total 11 columns):\n",
            " #   Column                                        Non-Null Count  Dtype  \n",
            "---  ------                                        --------------  -----  \n",
            " 0   Timestamp                                     101 non-null    object \n",
            " 1   Choose your gender                            101 non-null    object \n",
            " 2   Age                                           100 non-null    float64\n",
            " 3   What is your course?                          101 non-null    object \n",
            " 4   Your current year of Study                    101 non-null    object \n",
            " 5   What is your CGPA?                            101 non-null    object \n",
            " 6   Marital status                                101 non-null    object \n",
            " 7   Do you have Depression?                       101 non-null    object \n",
            " 8   Do you have Anxiety?                          101 non-null    object \n",
            " 9   Do you have Panic attack?                     101 non-null    object \n",
            " 10  Did you seek any specialist for a treatment?  101 non-null    object \n",
            "dtypes: float64(1), object(10)\n",
            "memory usage: 8.8+ KB\n"
          ]
        }
      ]
    },
    {
      "cell_type": "code",
      "source": [
        "df.describe()"
      ],
      "metadata": {
        "colab": {
          "base_uri": "https://localhost:8080/",
          "height": 301
        },
        "id": "s-AmeNvXnjD3",
        "outputId": "d6a397b2-2efd-49fe-9819-86329db84df9"
      },
      "execution_count": 92,
      "outputs": [
        {
          "output_type": "execute_result",
          "data": {
            "text/plain": [
              "             Age\n",
              "count  100.00000\n",
              "mean    20.53000\n",
              "std      2.49628\n",
              "min     18.00000\n",
              "25%     18.00000\n",
              "50%     19.00000\n",
              "75%     23.00000\n",
              "max     24.00000"
            ],
            "text/html": [
              "\n",
              "  <div id=\"df-9868b2c9-75ad-4087-95b7-55c0a2bd6e39\" class=\"colab-df-container\">\n",
              "    <div>\n",
              "<style scoped>\n",
              "    .dataframe tbody tr th:only-of-type {\n",
              "        vertical-align: middle;\n",
              "    }\n",
              "\n",
              "    .dataframe tbody tr th {\n",
              "        vertical-align: top;\n",
              "    }\n",
              "\n",
              "    .dataframe thead th {\n",
              "        text-align: right;\n",
              "    }\n",
              "</style>\n",
              "<table border=\"1\" class=\"dataframe\">\n",
              "  <thead>\n",
              "    <tr style=\"text-align: right;\">\n",
              "      <th></th>\n",
              "      <th>Age</th>\n",
              "    </tr>\n",
              "  </thead>\n",
              "  <tbody>\n",
              "    <tr>\n",
              "      <th>count</th>\n",
              "      <td>100.00000</td>\n",
              "    </tr>\n",
              "    <tr>\n",
              "      <th>mean</th>\n",
              "      <td>20.53000</td>\n",
              "    </tr>\n",
              "    <tr>\n",
              "      <th>std</th>\n",
              "      <td>2.49628</td>\n",
              "    </tr>\n",
              "    <tr>\n",
              "      <th>min</th>\n",
              "      <td>18.00000</td>\n",
              "    </tr>\n",
              "    <tr>\n",
              "      <th>25%</th>\n",
              "      <td>18.00000</td>\n",
              "    </tr>\n",
              "    <tr>\n",
              "      <th>50%</th>\n",
              "      <td>19.00000</td>\n",
              "    </tr>\n",
              "    <tr>\n",
              "      <th>75%</th>\n",
              "      <td>23.00000</td>\n",
              "    </tr>\n",
              "    <tr>\n",
              "      <th>max</th>\n",
              "      <td>24.00000</td>\n",
              "    </tr>\n",
              "  </tbody>\n",
              "</table>\n",
              "</div>\n",
              "    <div class=\"colab-df-buttons\">\n",
              "\n",
              "  <div class=\"colab-df-container\">\n",
              "    <button class=\"colab-df-convert\" onclick=\"convertToInteractive('df-9868b2c9-75ad-4087-95b7-55c0a2bd6e39')\"\n",
              "            title=\"Convert this dataframe to an interactive table.\"\n",
              "            style=\"display:none;\">\n",
              "\n",
              "  <svg xmlns=\"http://www.w3.org/2000/svg\" height=\"24px\" viewBox=\"0 -960 960 960\">\n",
              "    <path d=\"M120-120v-720h720v720H120Zm60-500h600v-160H180v160Zm220 220h160v-160H400v160Zm0 220h160v-160H400v160ZM180-400h160v-160H180v160Zm440 0h160v-160H620v160ZM180-180h160v-160H180v160Zm440 0h160v-160H620v160Z\"/>\n",
              "  </svg>\n",
              "    </button>\n",
              "\n",
              "  <style>\n",
              "    .colab-df-container {\n",
              "      display:flex;\n",
              "      gap: 12px;\n",
              "    }\n",
              "\n",
              "    .colab-df-convert {\n",
              "      background-color: #E8F0FE;\n",
              "      border: none;\n",
              "      border-radius: 50%;\n",
              "      cursor: pointer;\n",
              "      display: none;\n",
              "      fill: #1967D2;\n",
              "      height: 32px;\n",
              "      padding: 0 0 0 0;\n",
              "      width: 32px;\n",
              "    }\n",
              "\n",
              "    .colab-df-convert:hover {\n",
              "      background-color: #E2EBFA;\n",
              "      box-shadow: 0px 1px 2px rgba(60, 64, 67, 0.3), 0px 1px 3px 1px rgba(60, 64, 67, 0.15);\n",
              "      fill: #174EA6;\n",
              "    }\n",
              "\n",
              "    .colab-df-buttons div {\n",
              "      margin-bottom: 4px;\n",
              "    }\n",
              "\n",
              "    [theme=dark] .colab-df-convert {\n",
              "      background-color: #3B4455;\n",
              "      fill: #D2E3FC;\n",
              "    }\n",
              "\n",
              "    [theme=dark] .colab-df-convert:hover {\n",
              "      background-color: #434B5C;\n",
              "      box-shadow: 0px 1px 3px 1px rgba(0, 0, 0, 0.15);\n",
              "      filter: drop-shadow(0px 1px 2px rgba(0, 0, 0, 0.3));\n",
              "      fill: #FFFFFF;\n",
              "    }\n",
              "  </style>\n",
              "\n",
              "    <script>\n",
              "      const buttonEl =\n",
              "        document.querySelector('#df-9868b2c9-75ad-4087-95b7-55c0a2bd6e39 button.colab-df-convert');\n",
              "      buttonEl.style.display =\n",
              "        google.colab.kernel.accessAllowed ? 'block' : 'none';\n",
              "\n",
              "      async function convertToInteractive(key) {\n",
              "        const element = document.querySelector('#df-9868b2c9-75ad-4087-95b7-55c0a2bd6e39');\n",
              "        const dataTable =\n",
              "          await google.colab.kernel.invokeFunction('convertToInteractive',\n",
              "                                                    [key], {});\n",
              "        if (!dataTable) return;\n",
              "\n",
              "        const docLinkHtml = 'Like what you see? Visit the ' +\n",
              "          '<a target=\"_blank\" href=https://colab.research.google.com/notebooks/data_table.ipynb>data table notebook</a>'\n",
              "          + ' to learn more about interactive tables.';\n",
              "        element.innerHTML = '';\n",
              "        dataTable['output_type'] = 'display_data';\n",
              "        await google.colab.output.renderOutput(dataTable, element);\n",
              "        const docLink = document.createElement('div');\n",
              "        docLink.innerHTML = docLinkHtml;\n",
              "        element.appendChild(docLink);\n",
              "      }\n",
              "    </script>\n",
              "  </div>\n",
              "\n",
              "\n",
              "<div id=\"df-6310ba58-8d50-437b-8a62-64bac0ad8325\">\n",
              "  <button class=\"colab-df-quickchart\" onclick=\"quickchart('df-6310ba58-8d50-437b-8a62-64bac0ad8325')\"\n",
              "            title=\"Suggest charts\"\n",
              "            style=\"display:none;\">\n",
              "\n",
              "<svg xmlns=\"http://www.w3.org/2000/svg\" height=\"24px\"viewBox=\"0 0 24 24\"\n",
              "     width=\"24px\">\n",
              "    <g>\n",
              "        <path d=\"M19 3H5c-1.1 0-2 .9-2 2v14c0 1.1.9 2 2 2h14c1.1 0 2-.9 2-2V5c0-1.1-.9-2-2-2zM9 17H7v-7h2v7zm4 0h-2V7h2v10zm4 0h-2v-4h2v4z\"/>\n",
              "    </g>\n",
              "</svg>\n",
              "  </button>\n",
              "\n",
              "<style>\n",
              "  .colab-df-quickchart {\n",
              "      --bg-color: #E8F0FE;\n",
              "      --fill-color: #1967D2;\n",
              "      --hover-bg-color: #E2EBFA;\n",
              "      --hover-fill-color: #174EA6;\n",
              "      --disabled-fill-color: #AAA;\n",
              "      --disabled-bg-color: #DDD;\n",
              "  }\n",
              "\n",
              "  [theme=dark] .colab-df-quickchart {\n",
              "      --bg-color: #3B4455;\n",
              "      --fill-color: #D2E3FC;\n",
              "      --hover-bg-color: #434B5C;\n",
              "      --hover-fill-color: #FFFFFF;\n",
              "      --disabled-bg-color: #3B4455;\n",
              "      --disabled-fill-color: #666;\n",
              "  }\n",
              "\n",
              "  .colab-df-quickchart {\n",
              "    background-color: var(--bg-color);\n",
              "    border: none;\n",
              "    border-radius: 50%;\n",
              "    cursor: pointer;\n",
              "    display: none;\n",
              "    fill: var(--fill-color);\n",
              "    height: 32px;\n",
              "    padding: 0;\n",
              "    width: 32px;\n",
              "  }\n",
              "\n",
              "  .colab-df-quickchart:hover {\n",
              "    background-color: var(--hover-bg-color);\n",
              "    box-shadow: 0 1px 2px rgba(60, 64, 67, 0.3), 0 1px 3px 1px rgba(60, 64, 67, 0.15);\n",
              "    fill: var(--button-hover-fill-color);\n",
              "  }\n",
              "\n",
              "  .colab-df-quickchart-complete:disabled,\n",
              "  .colab-df-quickchart-complete:disabled:hover {\n",
              "    background-color: var(--disabled-bg-color);\n",
              "    fill: var(--disabled-fill-color);\n",
              "    box-shadow: none;\n",
              "  }\n",
              "\n",
              "  .colab-df-spinner {\n",
              "    border: 2px solid var(--fill-color);\n",
              "    border-color: transparent;\n",
              "    border-bottom-color: var(--fill-color);\n",
              "    animation:\n",
              "      spin 1s steps(1) infinite;\n",
              "  }\n",
              "\n",
              "  @keyframes spin {\n",
              "    0% {\n",
              "      border-color: transparent;\n",
              "      border-bottom-color: var(--fill-color);\n",
              "      border-left-color: var(--fill-color);\n",
              "    }\n",
              "    20% {\n",
              "      border-color: transparent;\n",
              "      border-left-color: var(--fill-color);\n",
              "      border-top-color: var(--fill-color);\n",
              "    }\n",
              "    30% {\n",
              "      border-color: transparent;\n",
              "      border-left-color: var(--fill-color);\n",
              "      border-top-color: var(--fill-color);\n",
              "      border-right-color: var(--fill-color);\n",
              "    }\n",
              "    40% {\n",
              "      border-color: transparent;\n",
              "      border-right-color: var(--fill-color);\n",
              "      border-top-color: var(--fill-color);\n",
              "    }\n",
              "    60% {\n",
              "      border-color: transparent;\n",
              "      border-right-color: var(--fill-color);\n",
              "    }\n",
              "    80% {\n",
              "      border-color: transparent;\n",
              "      border-right-color: var(--fill-color);\n",
              "      border-bottom-color: var(--fill-color);\n",
              "    }\n",
              "    90% {\n",
              "      border-color: transparent;\n",
              "      border-bottom-color: var(--fill-color);\n",
              "    }\n",
              "  }\n",
              "</style>\n",
              "\n",
              "  <script>\n",
              "    async function quickchart(key) {\n",
              "      const quickchartButtonEl =\n",
              "        document.querySelector('#' + key + ' button');\n",
              "      quickchartButtonEl.disabled = true;  // To prevent multiple clicks.\n",
              "      quickchartButtonEl.classList.add('colab-df-spinner');\n",
              "      try {\n",
              "        const charts = await google.colab.kernel.invokeFunction(\n",
              "            'suggestCharts', [key], {});\n",
              "      } catch (error) {\n",
              "        console.error('Error during call to suggestCharts:', error);\n",
              "      }\n",
              "      quickchartButtonEl.classList.remove('colab-df-spinner');\n",
              "      quickchartButtonEl.classList.add('colab-df-quickchart-complete');\n",
              "    }\n",
              "    (() => {\n",
              "      let quickchartButtonEl =\n",
              "        document.querySelector('#df-6310ba58-8d50-437b-8a62-64bac0ad8325 button');\n",
              "      quickchartButtonEl.style.display =\n",
              "        google.colab.kernel.accessAllowed ? 'block' : 'none';\n",
              "    })();\n",
              "  </script>\n",
              "</div>\n",
              "\n",
              "    </div>\n",
              "  </div>\n"
            ]
          },
          "metadata": {},
          "execution_count": 92
        }
      ]
    },
    {
      "cell_type": "code",
      "source": [
        "df.isnull().sum()"
      ],
      "metadata": {
        "colab": {
          "base_uri": "https://localhost:8080/"
        },
        "id": "qDIagkpX1MDk",
        "outputId": "08de52a9-8ae5-4801-8925-0d475f301a2c"
      },
      "execution_count": 93,
      "outputs": [
        {
          "output_type": "execute_result",
          "data": {
            "text/plain": [
              "Timestamp                                       0\n",
              "Choose your gender                              0\n",
              "Age                                             1\n",
              "What is your course?                            0\n",
              "Your current year of Study                      0\n",
              "What is your CGPA?                              0\n",
              "Marital status                                  0\n",
              "Do you have Depression?                         0\n",
              "Do you have Anxiety?                            0\n",
              "Do you have Panic attack?                       0\n",
              "Did you seek any specialist for a treatment?    0\n",
              "dtype: int64"
            ]
          },
          "metadata": {},
          "execution_count": 93
        }
      ]
    },
    {
      "cell_type": "code",
      "source": [
        "df.duplicated().sum()"
      ],
      "metadata": {
        "colab": {
          "base_uri": "https://localhost:8080/"
        },
        "outputId": "f3da4cf5-8abc-459e-ea3f-d6532f6904d0",
        "id": "aYhPwzIh18HU"
      },
      "execution_count": 94,
      "outputs": [
        {
          "output_type": "execute_result",
          "data": {
            "text/plain": [
              "0"
            ]
          },
          "metadata": {},
          "execution_count": 94
        }
      ]
    },
    {
      "cell_type": "markdown",
      "source": [
        "# **Data Cleaning and Transformation**"
      ],
      "metadata": {
        "id": "UvMUyoYxvAOn"
      }
    },
    {
      "cell_type": "markdown",
      "source": [
        "There is only one null value in the dataset so dropping it won't affect our analysis. However, there are discrepancies in the data type of some columns, so we need to convert them to the correct data type. It is important also to change the column names to make them more user-friendly and readable."
      ],
      "metadata": {
        "id": "4DK1vLdeowqB"
      }
    },
    {
      "cell_type": "markdown",
      "source": [
        "## Dropping the null values"
      ],
      "metadata": {
        "id": "v1ka91Ds3Yv0"
      }
    },
    {
      "cell_type": "code",
      "source": [
        "df =df.dropna()"
      ],
      "metadata": {
        "id": "uTSPY04Y1lqN"
      },
      "execution_count": 95,
      "outputs": []
    },
    {
      "cell_type": "code",
      "source": [
        "df.isnull().sum()"
      ],
      "metadata": {
        "colab": {
          "base_uri": "https://localhost:8080/"
        },
        "id": "mJ2CwUxbnmMR",
        "outputId": "49bb2119-3f14-4fb6-afbb-a7cb13a100b0"
      },
      "execution_count": 96,
      "outputs": [
        {
          "output_type": "execute_result",
          "data": {
            "text/plain": [
              "Timestamp                                       0\n",
              "Choose your gender                              0\n",
              "Age                                             0\n",
              "What is your course?                            0\n",
              "Your current year of Study                      0\n",
              "What is your CGPA?                              0\n",
              "Marital status                                  0\n",
              "Do you have Depression?                         0\n",
              "Do you have Anxiety?                            0\n",
              "Do you have Panic attack?                       0\n",
              "Did you seek any specialist for a treatment?    0\n",
              "dtype: int64"
            ]
          },
          "metadata": {},
          "execution_count": 96
        }
      ]
    },
    {
      "cell_type": "markdown",
      "source": [
        "# Changing the column names"
      ],
      "metadata": {
        "id": "dhLoOyT_3T4g"
      }
    },
    {
      "cell_type": "code",
      "source": [
        "df_new_column_names = {'Timestamp': 'Date',\n",
        "                       'Choose your gender': 'Gender',\n",
        "                       'Age': 'Age',\n",
        "                       'What is your course?': 'Major',\n",
        "                       'Your current year of Study': 'Year of Study',\n",
        "                       'What is your CGPA?': 'CGPA',\n",
        "                       'Do you have Depression?': 'Depression',\n",
        "                       'Do you have Anxiety?': 'Anxiety',\n",
        "                       'Do you have Panic attack?': 'Panic Attacks',\n",
        "                       'Did you seek any specialist for a treatment?': 'Treatment from a Specialist'}\n",
        "\n",
        "df.rename(columns=df_new_column_names, inplace=True)\n"
      ],
      "metadata": {
        "id": "UwOEzOgf2Rd4"
      },
      "execution_count": 106,
      "outputs": []
    },
    {
      "cell_type": "markdown",
      "source": [
        "# Converting to the Proper Data Types\n",
        "\n"
      ],
      "metadata": {
        "id": "EdjM32Ak84nw"
      }
    },
    {
      "cell_type": "code",
      "source": [
        "df['Age'] = df['Age'].astype(int)"
      ],
      "metadata": {
        "id": "1LKZpIst9JZC"
      },
      "execution_count": 98,
      "outputs": []
    },
    {
      "cell_type": "code",
      "source": [
        "df['CGPA'] = df['CGPA'].astype(str)\n",
        "\n",
        "# Function to handle ranges by taking the average\n",
        "def convert_gpa(value):\n",
        "    if '-' in value:\n",
        "        start, end = map(float, value.split(' - '))\n",
        "        return round((start + end) / 2, 2)\n",
        "    else:\n",
        "        return round(float(value), 2)\n",
        "\n",
        "# Apply the function to the 'GPA' column\n",
        "df['CGPA'] = df['CGPA'].apply(convert_gpa).astype(float)"
      ],
      "metadata": {
        "id": "lPcSDGQo8SFd"
      },
      "execution_count": 99,
      "outputs": []
    },
    {
      "cell_type": "code",
      "source": [
        "df.info()"
      ],
      "metadata": {
        "colab": {
          "base_uri": "https://localhost:8080/"
        },
        "id": "7-De0rUY7V7u",
        "outputId": "d67f20a0-5873-4b8e-f146-71d42bc14459"
      },
      "execution_count": 24,
      "outputs": [
        {
          "output_type": "stream",
          "name": "stdout",
          "text": [
            "<class 'pandas.core.frame.DataFrame'>\n",
            "Int64Index: 100 entries, 0 to 100\n",
            "Data columns (total 11 columns):\n",
            " #   Column                                        Non-Null Count  Dtype  \n",
            "---  ------                                        --------------  -----  \n",
            " 0   Date                                          100 non-null    object \n",
            " 1   Gender                                        100 non-null    object \n",
            " 2   Age                                           100 non-null    int64  \n",
            " 3   Major                                         100 non-null    object \n",
            " 4   Year of Study                                 100 non-null    object \n",
            " 5   CGPA                                          100 non-null    float64\n",
            " 6   Marital status                                100 non-null    object \n",
            " 7   Depression                                    100 non-null    object \n",
            " 8   Anxiety                                       100 non-null    object \n",
            " 9   Panic Attacks                                 100 non-null    object \n",
            " 10  Did you seek any specialist for a treatment?  100 non-null    object \n",
            "dtypes: float64(1), int64(1), object(9)\n",
            "memory usage: 9.4+ KB\n"
          ]
        }
      ]
    },
    {
      "cell_type": "markdown",
      "source": [
        "The date stamp is not useful for our analysis, so we will drop it."
      ],
      "metadata": {
        "id": "ovxjV6gT-Nly"
      }
    },
    {
      "cell_type": "code",
      "source": [
        "df = df.drop(['Date'], axis = 1)"
      ],
      "metadata": {
        "id": "WlVE2a75-UWx"
      },
      "execution_count": 25,
      "outputs": []
    },
    {
      "cell_type": "code",
      "source": [
        "df['Major'] = df['Major'].replace({'Engineering': 'Engineering', 'Islamic education': 'Islamic education', 'BIT': 'Computer Science','Laws': 'Law', 'Pendidikan islam': 'Islamic Education', 'BCS':'Computer Science', 'Irkhs': 'Others','Psychology': 'Medical', 'KENMS':'Others', 'Accounting ':'Finance','ENM':'Others', 'KOE':'Others', 'Banking Studies':'Finance', 'Business Administration': 'Finance', 'KIRKHS': 'Others', 'Usuluddin ': 'Islamic Studies', 'TAASL':'Others','Engine':'Engineering','ALA': 'Others','Biomedical science':'Medical', 'koe':'Others', 'Kirkhs':'Others', 'BENL':'Others','Benl':'Others', 'IT': 'Computer Science', 'CTS': 'Computer Science', 'Biotechnology':'Medical', 'engin':'Engineering','Econs':'Finance', 'MHSC':'Others', 'Malcom':'Others', 'Kop':'Others',  'Biotechnology':'Medical', 'Communication ':'Computer Science','Diploma Nursing':'Medical', 'Pendidikan Islam ':'Islamic Education', 'Radiography':'Medical','psychology':'Medical', 'Fiqh fatwa ':'Islamic Education', 'DIPLOMA TESL': 'Others','Koe':'Others', 'Fiqh':'Islamic Education', 'Nursing ':'Medical','Pendidikan Islam':'Others'    })"
      ],
      "metadata": {
        "id": "uCMfrvO6as8I"
      },
      "execution_count": 26,
      "outputs": []
    },
    {
      "cell_type": "code",
      "source": [
        "df['Major'].unique()"
      ],
      "metadata": {
        "colab": {
          "base_uri": "https://localhost:8080/"
        },
        "id": "wZRsMClIKk9U",
        "outputId": "aabd7c38-8d5d-4533-a599-5c95699ab7fb"
      },
      "execution_count": 27,
      "outputs": [
        {
          "output_type": "execute_result",
          "data": {
            "text/plain": [
              "array(['Engineering', 'Islamic education', 'Computer Science', 'Law',\n",
              "       'Mathemathics', 'Islamic Education', 'Human Resources', 'Others',\n",
              "       'Medical', 'Finance', 'Marine science', 'Islamic Studies',\n",
              "       'Human Sciences '], dtype=object)"
            ]
          },
          "metadata": {},
          "execution_count": 27
        }
      ]
    },
    {
      "cell_type": "code",
      "source": [
        "df['Year of Study'].unique()"
      ],
      "metadata": {
        "colab": {
          "base_uri": "https://localhost:8080/"
        },
        "id": "YnZkacpmdYDr",
        "outputId": "4f048db3-fa61-4316-cfef-3b596b256294"
      },
      "execution_count": 28,
      "outputs": [
        {
          "output_type": "execute_result",
          "data": {
            "text/plain": [
              "array(['year 1', 'year 2', 'Year 1', 'year 3', 'year 4', 'Year 2',\n",
              "       'Year 3'], dtype=object)"
            ]
          },
          "metadata": {},
          "execution_count": 28
        }
      ]
    },
    {
      "cell_type": "code",
      "source": [
        "df['Year of Study'].replace({'year 1': 'year 1', 'year 2': 'year 2', 'Year 1': 'year 1', 'year 3': 'year 3', 'year 4': 'year 4', 'Year 2': 'year 2',\n",
        "       'Year 3': 'year 3'}, inplace = True)"
      ],
      "metadata": {
        "id": "LSmmcH4fdtN1"
      },
      "execution_count": 29,
      "outputs": []
    },
    {
      "cell_type": "code",
      "source": [
        "df['Year of Study'].unique()"
      ],
      "metadata": {
        "colab": {
          "base_uri": "https://localhost:8080/"
        },
        "id": "6-nWcYood7Y2",
        "outputId": "b37743d8-5fe2-4c3a-c67b-99a2aafa75dc"
      },
      "execution_count": 30,
      "outputs": [
        {
          "output_type": "execute_result",
          "data": {
            "text/plain": [
              "array(['year 1', 'year 2', 'year 3', 'year 4'], dtype=object)"
            ]
          },
          "metadata": {},
          "execution_count": 30
        }
      ]
    },
    {
      "cell_type": "code",
      "source": [
        "df.head()"
      ],
      "metadata": {
        "colab": {
          "base_uri": "https://localhost:8080/",
          "height": 206
        },
        "id": "1vVIGyNjPKbM",
        "outputId": "4c3ec340-bf32-496b-ea3f-11782d4fc16a"
      },
      "execution_count": 108,
      "outputs": [
        {
          "output_type": "execute_result",
          "data": {
            "text/plain": [
              "             Date  Gender  Age              Major Year of Study  CGPA  \\\n",
              "0  8/7/2020 12:02  Female   18        Engineering        year 1  3.25   \n",
              "1  8/7/2020 12:04    Male   21  Islamic education        year 2  3.25   \n",
              "2  8/7/2020 12:05    Male   19                BIT        Year 1  3.25   \n",
              "3  8/7/2020 12:06  Female   22               Laws        year 3  3.25   \n",
              "4  8/7/2020 12:13    Male   23       Mathemathics        year 4  3.25   \n",
              "\n",
              "  Marital status Depression Anxiety Panic Attacks Treatment from Speacialist  \n",
              "0             No        Yes      No           Yes                         No  \n",
              "1             No         No     Yes            No                         No  \n",
              "2             No        Yes     Yes           Yes                         No  \n",
              "3            Yes        Yes      No            No                         No  \n",
              "4             No         No      No            No                         No  "
            ],
            "text/html": [
              "\n",
              "  <div id=\"df-eebfcf39-975f-4eed-9d5b-14deae903636\" class=\"colab-df-container\">\n",
              "    <div>\n",
              "<style scoped>\n",
              "    .dataframe tbody tr th:only-of-type {\n",
              "        vertical-align: middle;\n",
              "    }\n",
              "\n",
              "    .dataframe tbody tr th {\n",
              "        vertical-align: top;\n",
              "    }\n",
              "\n",
              "    .dataframe thead th {\n",
              "        text-align: right;\n",
              "    }\n",
              "</style>\n",
              "<table border=\"1\" class=\"dataframe\">\n",
              "  <thead>\n",
              "    <tr style=\"text-align: right;\">\n",
              "      <th></th>\n",
              "      <th>Date</th>\n",
              "      <th>Gender</th>\n",
              "      <th>Age</th>\n",
              "      <th>Major</th>\n",
              "      <th>Year of Study</th>\n",
              "      <th>CGPA</th>\n",
              "      <th>Marital status</th>\n",
              "      <th>Depression</th>\n",
              "      <th>Anxiety</th>\n",
              "      <th>Panic Attacks</th>\n",
              "      <th>Treatment from Speacialist</th>\n",
              "    </tr>\n",
              "  </thead>\n",
              "  <tbody>\n",
              "    <tr>\n",
              "      <th>0</th>\n",
              "      <td>8/7/2020 12:02</td>\n",
              "      <td>Female</td>\n",
              "      <td>18</td>\n",
              "      <td>Engineering</td>\n",
              "      <td>year 1</td>\n",
              "      <td>3.25</td>\n",
              "      <td>No</td>\n",
              "      <td>Yes</td>\n",
              "      <td>No</td>\n",
              "      <td>Yes</td>\n",
              "      <td>No</td>\n",
              "    </tr>\n",
              "    <tr>\n",
              "      <th>1</th>\n",
              "      <td>8/7/2020 12:04</td>\n",
              "      <td>Male</td>\n",
              "      <td>21</td>\n",
              "      <td>Islamic education</td>\n",
              "      <td>year 2</td>\n",
              "      <td>3.25</td>\n",
              "      <td>No</td>\n",
              "      <td>No</td>\n",
              "      <td>Yes</td>\n",
              "      <td>No</td>\n",
              "      <td>No</td>\n",
              "    </tr>\n",
              "    <tr>\n",
              "      <th>2</th>\n",
              "      <td>8/7/2020 12:05</td>\n",
              "      <td>Male</td>\n",
              "      <td>19</td>\n",
              "      <td>BIT</td>\n",
              "      <td>Year 1</td>\n",
              "      <td>3.25</td>\n",
              "      <td>No</td>\n",
              "      <td>Yes</td>\n",
              "      <td>Yes</td>\n",
              "      <td>Yes</td>\n",
              "      <td>No</td>\n",
              "    </tr>\n",
              "    <tr>\n",
              "      <th>3</th>\n",
              "      <td>8/7/2020 12:06</td>\n",
              "      <td>Female</td>\n",
              "      <td>22</td>\n",
              "      <td>Laws</td>\n",
              "      <td>year 3</td>\n",
              "      <td>3.25</td>\n",
              "      <td>Yes</td>\n",
              "      <td>Yes</td>\n",
              "      <td>No</td>\n",
              "      <td>No</td>\n",
              "      <td>No</td>\n",
              "    </tr>\n",
              "    <tr>\n",
              "      <th>4</th>\n",
              "      <td>8/7/2020 12:13</td>\n",
              "      <td>Male</td>\n",
              "      <td>23</td>\n",
              "      <td>Mathemathics</td>\n",
              "      <td>year 4</td>\n",
              "      <td>3.25</td>\n",
              "      <td>No</td>\n",
              "      <td>No</td>\n",
              "      <td>No</td>\n",
              "      <td>No</td>\n",
              "      <td>No</td>\n",
              "    </tr>\n",
              "  </tbody>\n",
              "</table>\n",
              "</div>\n",
              "    <div class=\"colab-df-buttons\">\n",
              "\n",
              "  <div class=\"colab-df-container\">\n",
              "    <button class=\"colab-df-convert\" onclick=\"convertToInteractive('df-eebfcf39-975f-4eed-9d5b-14deae903636')\"\n",
              "            title=\"Convert this dataframe to an interactive table.\"\n",
              "            style=\"display:none;\">\n",
              "\n",
              "  <svg xmlns=\"http://www.w3.org/2000/svg\" height=\"24px\" viewBox=\"0 -960 960 960\">\n",
              "    <path d=\"M120-120v-720h720v720H120Zm60-500h600v-160H180v160Zm220 220h160v-160H400v160Zm0 220h160v-160H400v160ZM180-400h160v-160H180v160Zm440 0h160v-160H620v160ZM180-180h160v-160H180v160Zm440 0h160v-160H620v160Z\"/>\n",
              "  </svg>\n",
              "    </button>\n",
              "\n",
              "  <style>\n",
              "    .colab-df-container {\n",
              "      display:flex;\n",
              "      gap: 12px;\n",
              "    }\n",
              "\n",
              "    .colab-df-convert {\n",
              "      background-color: #E8F0FE;\n",
              "      border: none;\n",
              "      border-radius: 50%;\n",
              "      cursor: pointer;\n",
              "      display: none;\n",
              "      fill: #1967D2;\n",
              "      height: 32px;\n",
              "      padding: 0 0 0 0;\n",
              "      width: 32px;\n",
              "    }\n",
              "\n",
              "    .colab-df-convert:hover {\n",
              "      background-color: #E2EBFA;\n",
              "      box-shadow: 0px 1px 2px rgba(60, 64, 67, 0.3), 0px 1px 3px 1px rgba(60, 64, 67, 0.15);\n",
              "      fill: #174EA6;\n",
              "    }\n",
              "\n",
              "    .colab-df-buttons div {\n",
              "      margin-bottom: 4px;\n",
              "    }\n",
              "\n",
              "    [theme=dark] .colab-df-convert {\n",
              "      background-color: #3B4455;\n",
              "      fill: #D2E3FC;\n",
              "    }\n",
              "\n",
              "    [theme=dark] .colab-df-convert:hover {\n",
              "      background-color: #434B5C;\n",
              "      box-shadow: 0px 1px 3px 1px rgba(0, 0, 0, 0.15);\n",
              "      filter: drop-shadow(0px 1px 2px rgba(0, 0, 0, 0.3));\n",
              "      fill: #FFFFFF;\n",
              "    }\n",
              "  </style>\n",
              "\n",
              "    <script>\n",
              "      const buttonEl =\n",
              "        document.querySelector('#df-eebfcf39-975f-4eed-9d5b-14deae903636 button.colab-df-convert');\n",
              "      buttonEl.style.display =\n",
              "        google.colab.kernel.accessAllowed ? 'block' : 'none';\n",
              "\n",
              "      async function convertToInteractive(key) {\n",
              "        const element = document.querySelector('#df-eebfcf39-975f-4eed-9d5b-14deae903636');\n",
              "        const dataTable =\n",
              "          await google.colab.kernel.invokeFunction('convertToInteractive',\n",
              "                                                    [key], {});\n",
              "        if (!dataTable) return;\n",
              "\n",
              "        const docLinkHtml = 'Like what you see? Visit the ' +\n",
              "          '<a target=\"_blank\" href=https://colab.research.google.com/notebooks/data_table.ipynb>data table notebook</a>'\n",
              "          + ' to learn more about interactive tables.';\n",
              "        element.innerHTML = '';\n",
              "        dataTable['output_type'] = 'display_data';\n",
              "        await google.colab.output.renderOutput(dataTable, element);\n",
              "        const docLink = document.createElement('div');\n",
              "        docLink.innerHTML = docLinkHtml;\n",
              "        element.appendChild(docLink);\n",
              "      }\n",
              "    </script>\n",
              "  </div>\n",
              "\n",
              "\n",
              "<div id=\"df-49fc175b-5dbc-4980-9241-eb9f65faa83c\">\n",
              "  <button class=\"colab-df-quickchart\" onclick=\"quickchart('df-49fc175b-5dbc-4980-9241-eb9f65faa83c')\"\n",
              "            title=\"Suggest charts\"\n",
              "            style=\"display:none;\">\n",
              "\n",
              "<svg xmlns=\"http://www.w3.org/2000/svg\" height=\"24px\"viewBox=\"0 0 24 24\"\n",
              "     width=\"24px\">\n",
              "    <g>\n",
              "        <path d=\"M19 3H5c-1.1 0-2 .9-2 2v14c0 1.1.9 2 2 2h14c1.1 0 2-.9 2-2V5c0-1.1-.9-2-2-2zM9 17H7v-7h2v7zm4 0h-2V7h2v10zm4 0h-2v-4h2v4z\"/>\n",
              "    </g>\n",
              "</svg>\n",
              "  </button>\n",
              "\n",
              "<style>\n",
              "  .colab-df-quickchart {\n",
              "      --bg-color: #E8F0FE;\n",
              "      --fill-color: #1967D2;\n",
              "      --hover-bg-color: #E2EBFA;\n",
              "      --hover-fill-color: #174EA6;\n",
              "      --disabled-fill-color: #AAA;\n",
              "      --disabled-bg-color: #DDD;\n",
              "  }\n",
              "\n",
              "  [theme=dark] .colab-df-quickchart {\n",
              "      --bg-color: #3B4455;\n",
              "      --fill-color: #D2E3FC;\n",
              "      --hover-bg-color: #434B5C;\n",
              "      --hover-fill-color: #FFFFFF;\n",
              "      --disabled-bg-color: #3B4455;\n",
              "      --disabled-fill-color: #666;\n",
              "  }\n",
              "\n",
              "  .colab-df-quickchart {\n",
              "    background-color: var(--bg-color);\n",
              "    border: none;\n",
              "    border-radius: 50%;\n",
              "    cursor: pointer;\n",
              "    display: none;\n",
              "    fill: var(--fill-color);\n",
              "    height: 32px;\n",
              "    padding: 0;\n",
              "    width: 32px;\n",
              "  }\n",
              "\n",
              "  .colab-df-quickchart:hover {\n",
              "    background-color: var(--hover-bg-color);\n",
              "    box-shadow: 0 1px 2px rgba(60, 64, 67, 0.3), 0 1px 3px 1px rgba(60, 64, 67, 0.15);\n",
              "    fill: var(--button-hover-fill-color);\n",
              "  }\n",
              "\n",
              "  .colab-df-quickchart-complete:disabled,\n",
              "  .colab-df-quickchart-complete:disabled:hover {\n",
              "    background-color: var(--disabled-bg-color);\n",
              "    fill: var(--disabled-fill-color);\n",
              "    box-shadow: none;\n",
              "  }\n",
              "\n",
              "  .colab-df-spinner {\n",
              "    border: 2px solid var(--fill-color);\n",
              "    border-color: transparent;\n",
              "    border-bottom-color: var(--fill-color);\n",
              "    animation:\n",
              "      spin 1s steps(1) infinite;\n",
              "  }\n",
              "\n",
              "  @keyframes spin {\n",
              "    0% {\n",
              "      border-color: transparent;\n",
              "      border-bottom-color: var(--fill-color);\n",
              "      border-left-color: var(--fill-color);\n",
              "    }\n",
              "    20% {\n",
              "      border-color: transparent;\n",
              "      border-left-color: var(--fill-color);\n",
              "      border-top-color: var(--fill-color);\n",
              "    }\n",
              "    30% {\n",
              "      border-color: transparent;\n",
              "      border-left-color: var(--fill-color);\n",
              "      border-top-color: var(--fill-color);\n",
              "      border-right-color: var(--fill-color);\n",
              "    }\n",
              "    40% {\n",
              "      border-color: transparent;\n",
              "      border-right-color: var(--fill-color);\n",
              "      border-top-color: var(--fill-color);\n",
              "    }\n",
              "    60% {\n",
              "      border-color: transparent;\n",
              "      border-right-color: var(--fill-color);\n",
              "    }\n",
              "    80% {\n",
              "      border-color: transparent;\n",
              "      border-right-color: var(--fill-color);\n",
              "      border-bottom-color: var(--fill-color);\n",
              "    }\n",
              "    90% {\n",
              "      border-color: transparent;\n",
              "      border-bottom-color: var(--fill-color);\n",
              "    }\n",
              "  }\n",
              "</style>\n",
              "\n",
              "  <script>\n",
              "    async function quickchart(key) {\n",
              "      const quickchartButtonEl =\n",
              "        document.querySelector('#' + key + ' button');\n",
              "      quickchartButtonEl.disabled = true;  // To prevent multiple clicks.\n",
              "      quickchartButtonEl.classList.add('colab-df-spinner');\n",
              "      try {\n",
              "        const charts = await google.colab.kernel.invokeFunction(\n",
              "            'suggestCharts', [key], {});\n",
              "      } catch (error) {\n",
              "        console.error('Error during call to suggestCharts:', error);\n",
              "      }\n",
              "      quickchartButtonEl.classList.remove('colab-df-spinner');\n",
              "      quickchartButtonEl.classList.add('colab-df-quickchart-complete');\n",
              "    }\n",
              "    (() => {\n",
              "      let quickchartButtonEl =\n",
              "        document.querySelector('#df-49fc175b-5dbc-4980-9241-eb9f65faa83c button');\n",
              "      quickchartButtonEl.style.display =\n",
              "        google.colab.kernel.accessAllowed ? 'block' : 'none';\n",
              "    })();\n",
              "  </script>\n",
              "</div>\n",
              "\n",
              "    </div>\n",
              "  </div>\n"
            ]
          },
          "metadata": {},
          "execution_count": 108
        }
      ]
    },
    {
      "cell_type": "code",
      "source": [
        "df.describe()"
      ],
      "metadata": {
        "colab": {
          "base_uri": "https://localhost:8080/",
          "height": 301
        },
        "id": "NwgnRkxNF_tt",
        "outputId": "299f8e90-99f7-4875-e42f-cbac87dd2268"
      },
      "execution_count": 32,
      "outputs": [
        {
          "output_type": "execute_result",
          "data": {
            "text/plain": [
              "             Age       CGPA\n",
              "count  100.00000  100.00000\n",
              "mean    20.53000    3.38220\n",
              "std      2.49628    0.53725\n",
              "min     18.00000    0.99000\n",
              "25%     18.00000    3.25000\n",
              "50%     19.00000    3.25000\n",
              "75%     23.00000    3.75000\n",
              "max     24.00000    3.75000"
            ],
            "text/html": [
              "\n",
              "  <div id=\"df-69499d53-ce37-4162-a1c1-7904f88e9565\" class=\"colab-df-container\">\n",
              "    <div>\n",
              "<style scoped>\n",
              "    .dataframe tbody tr th:only-of-type {\n",
              "        vertical-align: middle;\n",
              "    }\n",
              "\n",
              "    .dataframe tbody tr th {\n",
              "        vertical-align: top;\n",
              "    }\n",
              "\n",
              "    .dataframe thead th {\n",
              "        text-align: right;\n",
              "    }\n",
              "</style>\n",
              "<table border=\"1\" class=\"dataframe\">\n",
              "  <thead>\n",
              "    <tr style=\"text-align: right;\">\n",
              "      <th></th>\n",
              "      <th>Age</th>\n",
              "      <th>CGPA</th>\n",
              "    </tr>\n",
              "  </thead>\n",
              "  <tbody>\n",
              "    <tr>\n",
              "      <th>count</th>\n",
              "      <td>100.00000</td>\n",
              "      <td>100.00000</td>\n",
              "    </tr>\n",
              "    <tr>\n",
              "      <th>mean</th>\n",
              "      <td>20.53000</td>\n",
              "      <td>3.38220</td>\n",
              "    </tr>\n",
              "    <tr>\n",
              "      <th>std</th>\n",
              "      <td>2.49628</td>\n",
              "      <td>0.53725</td>\n",
              "    </tr>\n",
              "    <tr>\n",
              "      <th>min</th>\n",
              "      <td>18.00000</td>\n",
              "      <td>0.99000</td>\n",
              "    </tr>\n",
              "    <tr>\n",
              "      <th>25%</th>\n",
              "      <td>18.00000</td>\n",
              "      <td>3.25000</td>\n",
              "    </tr>\n",
              "    <tr>\n",
              "      <th>50%</th>\n",
              "      <td>19.00000</td>\n",
              "      <td>3.25000</td>\n",
              "    </tr>\n",
              "    <tr>\n",
              "      <th>75%</th>\n",
              "      <td>23.00000</td>\n",
              "      <td>3.75000</td>\n",
              "    </tr>\n",
              "    <tr>\n",
              "      <th>max</th>\n",
              "      <td>24.00000</td>\n",
              "      <td>3.75000</td>\n",
              "    </tr>\n",
              "  </tbody>\n",
              "</table>\n",
              "</div>\n",
              "    <div class=\"colab-df-buttons\">\n",
              "\n",
              "  <div class=\"colab-df-container\">\n",
              "    <button class=\"colab-df-convert\" onclick=\"convertToInteractive('df-69499d53-ce37-4162-a1c1-7904f88e9565')\"\n",
              "            title=\"Convert this dataframe to an interactive table.\"\n",
              "            style=\"display:none;\">\n",
              "\n",
              "  <svg xmlns=\"http://www.w3.org/2000/svg\" height=\"24px\" viewBox=\"0 -960 960 960\">\n",
              "    <path d=\"M120-120v-720h720v720H120Zm60-500h600v-160H180v160Zm220 220h160v-160H400v160Zm0 220h160v-160H400v160ZM180-400h160v-160H180v160Zm440 0h160v-160H620v160ZM180-180h160v-160H180v160Zm440 0h160v-160H620v160Z\"/>\n",
              "  </svg>\n",
              "    </button>\n",
              "\n",
              "  <style>\n",
              "    .colab-df-container {\n",
              "      display:flex;\n",
              "      gap: 12px;\n",
              "    }\n",
              "\n",
              "    .colab-df-convert {\n",
              "      background-color: #E8F0FE;\n",
              "      border: none;\n",
              "      border-radius: 50%;\n",
              "      cursor: pointer;\n",
              "      display: none;\n",
              "      fill: #1967D2;\n",
              "      height: 32px;\n",
              "      padding: 0 0 0 0;\n",
              "      width: 32px;\n",
              "    }\n",
              "\n",
              "    .colab-df-convert:hover {\n",
              "      background-color: #E2EBFA;\n",
              "      box-shadow: 0px 1px 2px rgba(60, 64, 67, 0.3), 0px 1px 3px 1px rgba(60, 64, 67, 0.15);\n",
              "      fill: #174EA6;\n",
              "    }\n",
              "\n",
              "    .colab-df-buttons div {\n",
              "      margin-bottom: 4px;\n",
              "    }\n",
              "\n",
              "    [theme=dark] .colab-df-convert {\n",
              "      background-color: #3B4455;\n",
              "      fill: #D2E3FC;\n",
              "    }\n",
              "\n",
              "    [theme=dark] .colab-df-convert:hover {\n",
              "      background-color: #434B5C;\n",
              "      box-shadow: 0px 1px 3px 1px rgba(0, 0, 0, 0.15);\n",
              "      filter: drop-shadow(0px 1px 2px rgba(0, 0, 0, 0.3));\n",
              "      fill: #FFFFFF;\n",
              "    }\n",
              "  </style>\n",
              "\n",
              "    <script>\n",
              "      const buttonEl =\n",
              "        document.querySelector('#df-69499d53-ce37-4162-a1c1-7904f88e9565 button.colab-df-convert');\n",
              "      buttonEl.style.display =\n",
              "        google.colab.kernel.accessAllowed ? 'block' : 'none';\n",
              "\n",
              "      async function convertToInteractive(key) {\n",
              "        const element = document.querySelector('#df-69499d53-ce37-4162-a1c1-7904f88e9565');\n",
              "        const dataTable =\n",
              "          await google.colab.kernel.invokeFunction('convertToInteractive',\n",
              "                                                    [key], {});\n",
              "        if (!dataTable) return;\n",
              "\n",
              "        const docLinkHtml = 'Like what you see? Visit the ' +\n",
              "          '<a target=\"_blank\" href=https://colab.research.google.com/notebooks/data_table.ipynb>data table notebook</a>'\n",
              "          + ' to learn more about interactive tables.';\n",
              "        element.innerHTML = '';\n",
              "        dataTable['output_type'] = 'display_data';\n",
              "        await google.colab.output.renderOutput(dataTable, element);\n",
              "        const docLink = document.createElement('div');\n",
              "        docLink.innerHTML = docLinkHtml;\n",
              "        element.appendChild(docLink);\n",
              "      }\n",
              "    </script>\n",
              "  </div>\n",
              "\n",
              "\n",
              "<div id=\"df-aec26be5-1e21-4a39-a147-72fe400ff8fd\">\n",
              "  <button class=\"colab-df-quickchart\" onclick=\"quickchart('df-aec26be5-1e21-4a39-a147-72fe400ff8fd')\"\n",
              "            title=\"Suggest charts\"\n",
              "            style=\"display:none;\">\n",
              "\n",
              "<svg xmlns=\"http://www.w3.org/2000/svg\" height=\"24px\"viewBox=\"0 0 24 24\"\n",
              "     width=\"24px\">\n",
              "    <g>\n",
              "        <path d=\"M19 3H5c-1.1 0-2 .9-2 2v14c0 1.1.9 2 2 2h14c1.1 0 2-.9 2-2V5c0-1.1-.9-2-2-2zM9 17H7v-7h2v7zm4 0h-2V7h2v10zm4 0h-2v-4h2v4z\"/>\n",
              "    </g>\n",
              "</svg>\n",
              "  </button>\n",
              "\n",
              "<style>\n",
              "  .colab-df-quickchart {\n",
              "      --bg-color: #E8F0FE;\n",
              "      --fill-color: #1967D2;\n",
              "      --hover-bg-color: #E2EBFA;\n",
              "      --hover-fill-color: #174EA6;\n",
              "      --disabled-fill-color: #AAA;\n",
              "      --disabled-bg-color: #DDD;\n",
              "  }\n",
              "\n",
              "  [theme=dark] .colab-df-quickchart {\n",
              "      --bg-color: #3B4455;\n",
              "      --fill-color: #D2E3FC;\n",
              "      --hover-bg-color: #434B5C;\n",
              "      --hover-fill-color: #FFFFFF;\n",
              "      --disabled-bg-color: #3B4455;\n",
              "      --disabled-fill-color: #666;\n",
              "  }\n",
              "\n",
              "  .colab-df-quickchart {\n",
              "    background-color: var(--bg-color);\n",
              "    border: none;\n",
              "    border-radius: 50%;\n",
              "    cursor: pointer;\n",
              "    display: none;\n",
              "    fill: var(--fill-color);\n",
              "    height: 32px;\n",
              "    padding: 0;\n",
              "    width: 32px;\n",
              "  }\n",
              "\n",
              "  .colab-df-quickchart:hover {\n",
              "    background-color: var(--hover-bg-color);\n",
              "    box-shadow: 0 1px 2px rgba(60, 64, 67, 0.3), 0 1px 3px 1px rgba(60, 64, 67, 0.15);\n",
              "    fill: var(--button-hover-fill-color);\n",
              "  }\n",
              "\n",
              "  .colab-df-quickchart-complete:disabled,\n",
              "  .colab-df-quickchart-complete:disabled:hover {\n",
              "    background-color: var(--disabled-bg-color);\n",
              "    fill: var(--disabled-fill-color);\n",
              "    box-shadow: none;\n",
              "  }\n",
              "\n",
              "  .colab-df-spinner {\n",
              "    border: 2px solid var(--fill-color);\n",
              "    border-color: transparent;\n",
              "    border-bottom-color: var(--fill-color);\n",
              "    animation:\n",
              "      spin 1s steps(1) infinite;\n",
              "  }\n",
              "\n",
              "  @keyframes spin {\n",
              "    0% {\n",
              "      border-color: transparent;\n",
              "      border-bottom-color: var(--fill-color);\n",
              "      border-left-color: var(--fill-color);\n",
              "    }\n",
              "    20% {\n",
              "      border-color: transparent;\n",
              "      border-left-color: var(--fill-color);\n",
              "      border-top-color: var(--fill-color);\n",
              "    }\n",
              "    30% {\n",
              "      border-color: transparent;\n",
              "      border-left-color: var(--fill-color);\n",
              "      border-top-color: var(--fill-color);\n",
              "      border-right-color: var(--fill-color);\n",
              "    }\n",
              "    40% {\n",
              "      border-color: transparent;\n",
              "      border-right-color: var(--fill-color);\n",
              "      border-top-color: var(--fill-color);\n",
              "    }\n",
              "    60% {\n",
              "      border-color: transparent;\n",
              "      border-right-color: var(--fill-color);\n",
              "    }\n",
              "    80% {\n",
              "      border-color: transparent;\n",
              "      border-right-color: var(--fill-color);\n",
              "      border-bottom-color: var(--fill-color);\n",
              "    }\n",
              "    90% {\n",
              "      border-color: transparent;\n",
              "      border-bottom-color: var(--fill-color);\n",
              "    }\n",
              "  }\n",
              "</style>\n",
              "\n",
              "  <script>\n",
              "    async function quickchart(key) {\n",
              "      const quickchartButtonEl =\n",
              "        document.querySelector('#' + key + ' button');\n",
              "      quickchartButtonEl.disabled = true;  // To prevent multiple clicks.\n",
              "      quickchartButtonEl.classList.add('colab-df-spinner');\n",
              "      try {\n",
              "        const charts = await google.colab.kernel.invokeFunction(\n",
              "            'suggestCharts', [key], {});\n",
              "      } catch (error) {\n",
              "        console.error('Error during call to suggestCharts:', error);\n",
              "      }\n",
              "      quickchartButtonEl.classList.remove('colab-df-spinner');\n",
              "      quickchartButtonEl.classList.add('colab-df-quickchart-complete');\n",
              "    }\n",
              "    (() => {\n",
              "      let quickchartButtonEl =\n",
              "        document.querySelector('#df-aec26be5-1e21-4a39-a147-72fe400ff8fd button');\n",
              "      quickchartButtonEl.style.display =\n",
              "        google.colab.kernel.accessAllowed ? 'block' : 'none';\n",
              "    })();\n",
              "  </script>\n",
              "</div>\n",
              "\n",
              "    </div>\n",
              "  </div>\n"
            ]
          },
          "metadata": {},
          "execution_count": 32
        }
      ]
    },
    {
      "cell_type": "markdown",
      "source": [
        "the descriptive statistics show that the majority of students are between the age of 18 and 22, the median age is 20, and the mean of the cgpa is 3.3."
      ],
      "metadata": {
        "id": "_hC2hCMqGD0-"
      }
    },
    {
      "cell_type": "markdown",
      "source": [
        "## **Data Visualization**"
      ],
      "metadata": {
        "id": "gT5VlVSln5x4"
      }
    },
    {
      "cell_type": "code",
      "source": [
        "sns.histplot(df['Age'], kde=True, color='skyblue')\n",
        "plt.title('Age Distribution')\n",
        "plt.xlabel('Age')\n",
        "plt.ylabel('Count')\n",
        "plt.show()"
      ],
      "metadata": {
        "colab": {
          "base_uri": "https://localhost:8080/",
          "height": 472
        },
        "id": "jdqyOykEC_8P",
        "outputId": "309ef16a-92c9-4538-e3b2-e52f4b113576"
      },
      "execution_count": 68,
      "outputs": [
        {
          "output_type": "display_data",
          "data": {
            "text/plain": [
              "<Figure size 640x480 with 1 Axes>"
            ],
            "image/png": "[encoded data removed]"
          },
          "metadata": {}
        }
      ]
    },
    {
      "cell_type": "markdown",
      "source": [
        "Insight: the visualization shows that the majority of students fall in the age range 18-19 and 23-24.\n",
        "\n"
      ],
      "metadata": {
        "id": "95ZYlIoVD2bh"
      }
    },
    {
      "cell_type": "markdown",
      "source": [
        "# Distribution of Male and Female Students\n"
      ],
      "metadata": {
        "id": "wUys-uy2FnB4"
      }
    },
    {
      "cell_type": "code",
      "source": [
        "df.Gender.value_counts().plot(kind='pie', autopct='%1.1f%%', colors=['#ff9999','#66b3ff','#99ff99'])\n",
        "plt.title('Gender Distribution')\n",
        "plt.show()"
      ],
      "metadata": {
        "colab": {
          "base_uri": "https://localhost:8080/",
          "height": 428
        },
        "id": "t5xkdmyBIAmE",
        "outputId": "25d41027-a296-4be1-ab5f-605f3a995f4d"
      },
      "execution_count": 38,
      "outputs": [
        {
          "output_type": "display_data",
          "data": {
            "text/plain": [
              "<Figure size 640x480 with 1 Axes>"
            ],
            "image/png": "[encoded data removed]"
          },
          "metadata": {}
        }
      ]
    },
    {
      "cell_type": "markdown",
      "source": [
        "Insight: there is a significant proportion of female students compared to male students."
      ],
      "metadata": {
        "id": "EJEsxNMM6eQs"
      }
    },
    {
      "cell_type": "markdown",
      "source": [
        "## What is the Age Distribution Amongst Different Academic Levels\n",
        "\n",
        "\n"
      ],
      "metadata": {
        "id": "b31LE6x-I9D6"
      }
    },
    {
      "cell_type": "code",
      "source": [
        "sns.countplot(x='Age', hue='Year of Study', data=df, palette='pastel')\n",
        "plt.title('Year of Study')\n",
        "plt.xlabel('Age')\n",
        "plt.ylabel('Year of Study')\n",
        "plt.show()"
      ],
      "metadata": {
        "colab": {
          "base_uri": "https://localhost:8080/",
          "height": 472
        },
        "id": "gHKFrMr_JC9h",
        "outputId": "f5b02b3e-9e1f-4028-8c4b-bce5d094ffb8"
      },
      "execution_count": 39,
      "outputs": [
        {
          "output_type": "display_data",
          "data": {
            "text/plain": [
              "<Figure size 640x480 with 1 Axes>"
            ],
            "image/png": "[encoded data removed]"
          },
          "metadata": {}
        }
      ]
    },
    {
      "cell_type": "markdown",
      "source": [
        "The visualization highlights that a significant proportion of students are enrolled in their first year of study. Notably, within the age range of 19-20, there is an absence of students in both their first and final years. This observation suggests a concentration of students in the early years of their academic journey, with a unique distribution pattern in the specified age bracket."
      ],
      "metadata": {
        "id": "ZK2q1FC1eDM7"
      }
    },
    {
      "cell_type": "markdown",
      "source": [
        "## Are there specific attributes or interests within age groups that drive their choice of disciplines?"
      ],
      "metadata": {
        "id": "lKw12nDc7gnB"
      }
    },
    {
      "cell_type": "code",
      "source": [
        "sns.barplot(x='Age', y='Major', data=df, color='skyblue')\n",
        "plt.title('Age vs. Major')\n",
        "plt.xlabel('Age')\n",
        "plt.ylabel('Major')\n",
        "plt.show()\n"
      ],
      "metadata": {
        "colab": {
          "base_uri": "https://localhost:8080/",
          "height": 472
        },
        "id": "6OUD4KeEfH1I",
        "outputId": "2431aa01-9738-406f-e8f7-78d15553a851"
      },
      "execution_count": 40,
      "outputs": [
        {
          "output_type": "display_data",
          "data": {
            "text/plain": [
              "<Figure size 640x480 with 1 Axes>"
            ],
            "image/png": "[encoded data removed]"
          },
          "metadata": {}
        }
      ]
    },
    {
      "cell_type": "markdown",
      "source": [
        "Insights: the majority of students under the age of 20 are predominantly pursuing disciplines such as Engineering, Law, Marine Science, and Human Science. This concentration suggests a distinct academic preference among this age group, highlighting the prevalence of these specific majors within the younger student demographic"
      ],
      "metadata": {
        "id": "wDJVGZGeiS3P"
      }
    },
    {
      "cell_type": "markdown",
      "source": [
        "## Distribution of Marital Status"
      ],
      "metadata": {
        "id": "xT4wHb2Pkspj"
      }
    },
    {
      "cell_type": "code",
      "source": [
        "df['Marital status'].value_counts().plot(kind='pie', autopct='%1.1f%%', colors=['#ff9999','#66b3ff','#99ff99'])\n",
        "my_circle = plt.Circle( (0,0), 0.4, color='white')\n",
        "plt.gcf().gca().add_artist(my_circle)\n",
        "plt.title('Marital Status')\n",
        "plt.show()"
      ],
      "metadata": {
        "colab": {
          "base_uri": "https://localhost:8080/",
          "height": 428
        },
        "id": "uWbU7QRhjg7T",
        "outputId": "b64e7db4-bfd3-45c1-dfb3-9dc4380fabbf"
      },
      "execution_count": 41,
      "outputs": [
        {
          "output_type": "display_data",
          "data": {
            "text/plain": [
              "<Figure size 640x480 with 1 Axes>"
            ],
            "image/png": "[encoded data removed]"
          },
          "metadata": {}
        }
      ]
    },
    {
      "cell_type": "markdown",
      "source": [
        "\n",
        "Insight: The data reveals that 16% of the students are married, while the majority, accounting for 84%, are single. This distribution is attributed to the demographic composition of the surveyed students, with a significant portion being teenagers or in their early twenties."
      ],
      "metadata": {
        "id": "eOEDxP6xmS8Q"
      }
    },
    {
      "cell_type": "markdown",
      "source": [
        "## Does Marital Status have an impact on CGPA?"
      ],
      "metadata": {
        "id": "a2ejK_SsnbkZ"
      }
    },
    {
      "cell_type": "code",
      "source": [
        "sns.violinplot(x='Marital status', y='CGPA', data=df, palette='pastel')\n",
        "plt.title('Marital Status vs. CGPA')\n",
        "plt.xlabel('Marital Status')\n",
        "plt.ylabel('CGPA')\n",
        "plt.show()"
      ],
      "metadata": {
        "colab": {
          "base_uri": "https://localhost:8080/",
          "height": 559
        },
        "id": "FT2r6BzbRNT6",
        "outputId": "334bd1ef-858d-4544-ac90-0cdcae46bd4e"
      },
      "execution_count": 42,
      "outputs": [
        {
          "output_type": "stream",
          "name": "stderr",
          "text": [
            "<ipython-input-42-230dfc91d265>:1: FutureWarning: \n",
            "\n",
            "Passing `palette` without assigning `hue` is deprecated and will be removed in v0.14.0. Assign the `x` variable to `hue` and set `legend=False` for the same effect.\n",
            "\n",
            "  sns.violinplot(x='Marital status', y='CGPA', data=df, palette='pastel')\n"
          ]
        },
        {
          "output_type": "display_data",
          "data": {
            "text/plain": [
              "<Figure size 640x480 with 1 Axes>"
            ],
            "image/png": "[encoded data removed]"
          },
          "metadata": {}
        }
      ]
    },
    {
      "cell_type": "markdown",
      "source": [
        "\n",
        "Insight: This observation suggests that married students tend to have a higher CGPA than their single counterparts. This phenomenon could potentially be linked to the presence of emotional support among married students, highlighting the impact of interpersonal relationships on academic performance."
      ],
      "metadata": {
        "id": "W6nG4byBTZTq"
      }
    },
    {
      "cell_type": "markdown",
      "source": [
        "## What is the Distribtuion of Depressed and Not Depressed?"
      ],
      "metadata": {
        "id": "tuTc6Y0O_lHd"
      }
    },
    {
      "cell_type": "code",
      "source": [
        "plt.pie(df['Depression'].value_counts(), autopct='%1.1f%%', colors=['#ff9999','#66b3ff','#99ff99'])\n",
        "plt.title('Depression Status')\n",
        "plt.show()"
      ],
      "metadata": {
        "colab": {
          "base_uri": "https://localhost:8080/",
          "height": 428
        },
        "id": "6uLONsOj_u8c",
        "outputId": "79edac37-5df0-4c9e-c52d-7f2829b06092"
      },
      "execution_count": 50,
      "outputs": [
        {
          "output_type": "display_data",
          "data": {
            "text/plain": [
              "<Figure size 640x480 with 1 Axes>"
            ],
            "image/png": "[encoded data removed]"
          },
          "metadata": {}
        }
      ]
    },
    {
      "cell_type": "markdown",
      "source": [
        "Insight: The data reveals that 37% of the students are depressed, while the majority, accounting for 63%, are not depressed."
      ],
      "metadata": {
        "id": "tbRv4-Z3AG1I"
      }
    },
    {
      "cell_type": "markdown",
      "source": [
        "## Does being Marrried have an impact on Depressionn Status:"
      ],
      "metadata": {
        "id": "dhMJhvfeT4BU"
      }
    },
    {
      "cell_type": "code",
      "source": [
        "df_depression = df[df['Depression'] == 'Yes']"
      ],
      "metadata": {
        "id": "pAq3bc1DUMHb"
      },
      "execution_count": 43,
      "outputs": []
    },
    {
      "cell_type": "code",
      "source": [
        "sns.countplot(x='Marital status', hue='Depression', data=df_depression, palette='pastel')\n",
        "plt.title('Marital Status vs. Depression')\n",
        "plt.xlabel('Marital Status')\n",
        "plt.ylabel('Count')\n",
        "plt.show()"
      ],
      "metadata": {
        "colab": {
          "base_uri": "https://localhost:8080/",
          "height": 472
        },
        "id": "BPrhFOzzU3Ou",
        "outputId": "874eccf7-c063-4dfd-cb1f-8e6ebb89377c"
      },
      "execution_count": 44,
      "outputs": [
        {
          "output_type": "display_data",
          "data": {
            "text/plain": [
              "<Figure size 640x480 with 1 Axes>"
            ],
            "image/png": "[encoded data removed]"
          },
          "metadata": {}
        }
      ]
    },
    {
      "cell_type": "markdown",
      "source": [
        "Insight: The visualization underscores a notable trend: a lower proportion of married students experience depression compared to their single counterparts. This intriguing observation prompts further exploration into potential factors influencing mental health outcomes based on marital status among the surveyed students."
      ],
      "metadata": {
        "id": "KAxXfJiAYjRM"
      }
    },
    {
      "cell_type": "markdown",
      "source": [
        "## Correlation between Marital status and CGPA"
      ],
      "metadata": {
        "id": "oUbP27NfW1hU"
      }
    },
    {
      "cell_type": "code",
      "source": [
        "sns.displot(data=df, x='CGPA', hue='Marital status', palette='Set2', kind='kde', fill=True)\n",
        "plt.title('Correlation between CGPA and Marital Status')\n",
        "plt.show()"
      ],
      "metadata": {
        "colab": {
          "base_uri": "https://localhost:8080/",
          "height": 529
        },
        "id": "Lmo_1U5AW76u",
        "outputId": "49450766-1a32-460a-acd9-1ef596ff5d9a"
      },
      "execution_count": 122,
      "outputs": [
        {
          "output_type": "display_data",
          "data": {
            "text/plain": [
              "<Figure size 606.361x500 with 1 Axes>"
            ],
            "image/png": "[encoded data removed]"
          },
          "metadata": {}
        }
      ]
    },
    {
      "cell_type": "markdown",
      "source": [
        "Insight: The visualization reveals a significant correlation between Marital Status and CGPA. The positive correlation suggests that students who are married tend to have higher CGPA."
      ],
      "metadata": {
        "id": "3sIT_DIBXM_i"
      }
    },
    {
      "cell_type": "markdown",
      "source": [
        "# Does a lower CGPA correlate with a higher likelihood of experiencing panic attacks and depression among students?\n",
        "\n"
      ],
      "metadata": {
        "id": "P_H4rNI4Zsci"
      }
    },
    {
      "cell_type": "code",
      "source": [
        "sns.displot(data=df_depression, x='CGPA', hue='Panic Attacks', palette='Set2', kind='kde', fill=True)\n",
        "plt.title('Correlation between CGPA and Panic Attacks')"
      ],
      "metadata": {
        "colab": {
          "base_uri": "https://localhost:8080/",
          "height": 542
        },
        "id": "iPli0e6VgXHY",
        "outputId": "545cc558-1be7-4ef6-e867-37da22ae8bf8"
      },
      "execution_count": 45,
      "outputs": [
        {
          "output_type": "execute_result",
          "data": {
            "text/plain": [
              "Text(0.5, 1.0, 'Correlation between CGPA and Panic Attacks')"
            ]
          },
          "metadata": {},
          "execution_count": 45
        },
        {
          "output_type": "display_data",
          "data": {
            "text/plain": [
              "<Figure size 603.861x500 with 1 Axes>"
            ],
            "image/png": "[encoded data removed]"
          },
          "metadata": {}
        }
      ]
    },
    {
      "cell_type": "markdown",
      "source": [
        "The visualization reveals a significant correlation between Panic Attacks and CGPA. The positive correlation suggests that students who have a lower CGPA are more likely to experience panic attacks."
      ],
      "metadata": {
        "id": "N--rQICDbYJA"
      }
    },
    {
      "cell_type": "markdown",
      "source": [
        "## What is the Distribution of Depresssion across different ages?\n"
      ],
      "metadata": {
        "id": "egN2c47igjI_"
      }
    },
    {
      "cell_type": "code",
      "source": [
        "sns.countplot(x='Age', hue='Depression', data=df_depression, palette='Set2')\n",
        "plt.title('Age vs. Depression')\n",
        "plt.xlabel('Age')\n",
        "plt.ylabel('Count')\n",
        "plt.show()"
      ],
      "metadata": {
        "colab": {
          "base_uri": "https://localhost:8080/",
          "height": 472
        },
        "id": "3K6NOX-8IWIn",
        "outputId": "55e0e939-e398-452a-d759-dfa29dba9df0"
      },
      "execution_count": 72,
      "outputs": [
        {
          "output_type": "display_data",
          "data": {
            "text/plain": [
              "<Figure size 640x480 with 1 Axes>"
            ],
            "image/png": "[encoded data removed]"
          },
          "metadata": {}
        }
      ]
    },
    {
      "cell_type": "markdown",
      "source": [
        "Insights: The students in the age range of 18-19 exhibit a high prevalence of depression compared to their counterparts in the age range of 20-21. this could be because the students are in a new environmnet they have not experienced before. and adapting can be challenging."
      ],
      "metadata": {
        "id": "D7UDEX_EIpt5"
      }
    },
    {
      "cell_type": "markdown",
      "source": [
        "## Does having a lower CGPA correlate with a higher likelihood of experiencing depression among students?"
      ],
      "metadata": {
        "id": "YzIe6Ob-IiMW"
      }
    },
    {
      "cell_type": "code",
      "source": [
        "sns.countplot(x='CGPA', hue='Depression', data=df_depression, palette='Set2')\n",
        "plt.title('CGPA vs. Depression')\n",
        "plt.xlabel('CGPA')\n",
        "plt.ylabel('Count')\n",
        "plt.show()"
      ],
      "metadata": {
        "colab": {
          "base_uri": "https://localhost:8080/",
          "height": 472
        },
        "id": "pGluK2iBgtVh",
        "outputId": "84efea33-cc71-4309-91fb-3056f4b0d768"
      },
      "execution_count": 70,
      "outputs": [
        {
          "output_type": "display_data",
          "data": {
            "text/plain": [
              "<Figure size 640x480 with 1 Axes>"
            ],
            "image/png": "[encoded data removed]"
          },
          "metadata": {}
        }
      ]
    },
    {
      "cell_type": "markdown",
      "source": [
        "Insights:Observation: Students with a CGPA of 3.25 exhibit a higher prevalence of depression in comparison to their counterparts with CGPAs of 2.75 and 3.75."
      ],
      "metadata": {
        "id": "PG3GuFzFC6rg"
      }
    },
    {
      "cell_type": "markdown",
      "source": [
        "# Does the Year of Study have an impact on anxiety levels?"
      ],
      "metadata": {
        "id": "jl_EQQAKC9RY"
      }
    },
    {
      "cell_type": "code",
      "source": [
        "sns.countplot(x='Year of Study', hue='Panic Attacks', data=df_depression, palette='Set2')\n",
        "plt.title('Year of Study vs. Panic Attacks')\n",
        "plt.xlabel('Year of Study')\n",
        "plt.ylabel('Count')\n",
        "plt.show()"
      ],
      "metadata": {
        "colab": {
          "base_uri": "https://localhost:8080/",
          "height": 472
        },
        "id": "AXfXbxq2Dgh6",
        "outputId": "0303efdc-a50b-45b8-9e71-d8d2edf06690"
      },
      "execution_count": 82,
      "outputs": [
        {
          "output_type": "display_data",
          "data": {
            "text/plain": [
              "<Figure size 640x480 with 1 Axes>"
            ],
            "image/png": "[encoded data removed]"
          },
          "metadata": {}
        }
      ]
    },
    {
      "cell_type": "markdown",
      "source": [
        "Insights: The data discloses a higher prevalence of panic attacks among students in their second year, possibly stemming from increased self-awareness regarding the impact of their activities on their CGPA. Intriguingly, students in their final year exhibit no instances of panic attacks, suggesting a potential adaptation to the school environment and a heightened understanding of academic demands over the course of their university journey."
      ],
      "metadata": {
        "id": "g80bpVmJNaRT"
      }
    },
    {
      "cell_type": "markdown",
      "source": [
        "## How many students experiencing depression sought medical treatment from a specialist?\""
      ],
      "metadata": {
        "id": "IREpiZasOlUk"
      }
    },
    {
      "cell_type": "code",
      "source": [
        "sns.countplot(data=df, x='Treatment from Speacialist', hue='Depression', palette='Set2', fill=True)\n",
        "plt.title('Correlation between CGPA and Panic Attacks')"
      ],
      "metadata": {
        "colab": {
          "base_uri": "https://localhost:8080/",
          "height": 489
        },
        "id": "a06U7m2xO_xU",
        "outputId": "2360762a-968c-47e6-f4ec-10c352b6f5c6"
      },
      "execution_count": 121,
      "outputs": [
        {
          "output_type": "execute_result",
          "data": {
            "text/plain": [
              "Text(0.5, 1.0, 'Correlation between CGPA and Panic Attacks')"
            ]
          },
          "metadata": {},
          "execution_count": 121
        },
        {
          "output_type": "display_data",
          "data": {
            "text/plain": [
              "<Figure size 640x480 with 1 Axes>"
            ],
            "image/png": "[encoded data removed]"
          },
          "metadata": {}
        }
      ]
    },
    {
      "cell_type": "markdown",
      "source": [
        "Insights: The visualization highlights a predominant trend where a significant portion of students who have encountered depression did not opt for medical treatment from a specialist. This pattern might be attributed to financial constraints, the absence of specialized professionals within the school, or a perception among students that seeking a specialist is unnecessary, and they can overcome their challenges without expert intervention.\n",
        "\n",
        "\n",
        "\n",
        "\n"
      ],
      "metadata": {
        "id": "dQYqimr8SYqw"
      }
    },
    {
      "cell_type": "markdown",
      "source": [
        "## **Conclusion:**"
      ],
      "metadata": {
        "id": "RpQso9YfUGxg"
      }
    },
    {
      "cell_type": "markdown",
      "source": [
        "* Despite the overall lower percentage (about 35%) of students who experienced depression, there is a noteworthy finding that students with a CGPA of 3.25 demonstrate a higher prevalence of depression compared to those with CGPAs of 2.75 and 3.75. This prompts further exploration into factors contributing to the heightened incidence of depression among students with a CGPA of 3.25.\n",
        "\n",
        "* An interesting pattern emerges regarding panic attacks, where individuals in their second year of study exhibit instances of panic attacks. This observation raises questions about potential stressors or challenges specific to the second year of academic pursuits that may influence the occurrence of panic attacks.\n",
        "\n",
        "* Contrary to expectations, single students exhibit instances of both panic attacks and depression compared to their married counterparts. This observation challenges assumptions about the perceived support systems in marital relationships and suggests a need for a nuanced exploration of the factors influencing mental health across different relationship statuses.\n",
        "\n",
        "* A concerning observation is that all the students who experienced depression did not seek medical treatment. This highlights a potential gap in mental health support systems, raising questions about the accessibility of mental health resources on campus and the need for interventions to encourage seeking professional help among affected students."
      ],
      "metadata": {
        "id": "2tNhYGbhUKRD"
      }
    },
    {
      "cell_type": "markdown",
      "source": [
        "### **Recommendation:**"
      ],
      "metadata": {
        "id": "aFFbLSxtWkhm"
      }
    },
    {
      "cell_type": "markdown",
      "source": [
        "* Implement Mental Health Awareness Programs:\n",
        "Develop and implement mental health awareness programs aimed at reducing the stigma associated with seeking help. Promote a campus culture that encourages open discussions about mental health, ensuring students are aware of available resources and support services.\n",
        "\n",
        "* Enhance Academic Support for CGPA of 3.25:\n",
        "Recognizing the higher prevalence of depression among students with a CGPA of 3.25, consider implementing targeted academic support programs. These initiatives could include study skills workshops, counseling services, and mentorship programs to address potential academic stressors.\n",
        "\n",
        "* Tailor Support for Second-Year Students:\n",
        "Given the observed instances of panic attacks in second-year students, consider designing interventions specifically tailored to address the challenges commonly faced during the second year of study. These could include stress management workshops, peer support programs, or academic counseling services.\n",
        "\n",
        "* Provide Comprehensive Mental Health Resources:\n",
        "Ensure the availability and accessibility of comprehensive mental health resources on campus. This includes counseling services, mental health workshops, and information on seeking professional help. Proactively communicate these resources to students through various channels.\n",
        "\n",
        "* Explore Relationship Status Dynamics:\n",
        "Investigate the factors contributing to instances of panic attacks and depression among single students compared to their married counterparts. This exploration could involve conducting surveys, focus groups, or interviews to better understand the unique challenges faced by students in different relationship statuses.\n",
        "\n",
        "* Periodic Mental Health Check-ins:\n",
        "Implement periodic mental health check-ins for students, providing opportunities for self-assessment and encouraging early intervention. These check-ins can be integrated into academic advising sessions or campus-wide campaigns focused on mental well-being."
      ],
      "metadata": {
        "id": "sv4tNXFgWqvk"
      }
    }
  ]
}